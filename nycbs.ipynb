{
 "cells": [
  {
   "cell_type": "markdown",
   "metadata": {},
   "source": [
    "# 1. Data Acquisition & Preparation\n",
    "\n",
    "## a. Downloading the Data:\n",
    "The latest monthly Citi Bike dataset is available from the Citi Bike System Data S3 bucket (e.g., https://s3.amazonaws.com/tripdata/index.html). Everymonth two new files are added:\n",
    "1. For Jersey City -> JC-YYYYMM-citibike-tripdata.csv.zip\n",
    "2. For NYC -> YYYYMM-citibike-tripdata.zip (From 2013 till 2023 files are anually, from 2024 upwards files are monthly)\n",
    "\n",
    "In case of January 2025 there is three files availble in the zip (_1,_2,_3) sharing same schema\n",
    "\n",
    "## b. Ingesting the Data with PySpark:\n",
    "Start a Spark session and read the CSV file into a DataFrame. We can let Spark infer the schema (or provide an explicit schema for better performance)."
   ]
  },
  {
   "cell_type": "code",
   "execution_count": 1,
   "metadata": {},
   "outputs": [
    {
     "name": "stdout",
     "output_type": "stream",
     "text": [
      "Extracted c:\\Git\\NYCBS\\raw_data\\202501-citibike-tripdata.zip to c:\\Git\\NYCBS\\data\n"
     ]
    }
   ],
   "source": [
    "import os\n",
    "import glob\n",
    "import zipfile\n",
    "import platform\n",
    "\n",
    "def extract_all_zips(zip_folder, extract_to):\n",
    "    \"\"\"\n",
    "    Extracts all zip files found in the given folder into the specified extraction directory.\n",
    "\n",
    "    Parameters:\n",
    "    zip_folder (str): Path to the folder containing zip files.\n",
    "    extract_to (str): Path to the directory where the CSV files will be extracted.\n",
    "    \"\"\"\n",
    "    # Normalize paths for cross-platform compatibility\n",
    "    zip_folder = os.path.abspath(zip_folder)\n",
    "    extract_to = os.path.abspath(extract_to)\n",
    "\n",
    "    # Ensure the extraction directory exists.\n",
    "    os.makedirs(extract_to, exist_ok=True)\n",
    "\n",
    "    # Find all zip files in the specified folder.\n",
    "    zip_files = glob.glob(os.path.join(zip_folder, \"*.zip\"))\n",
    "\n",
    "    # Iterate over each zip file and extract its contents.\n",
    "    for zip_file in zip_files:\n",
    "        with zipfile.ZipFile(zip_file, 'r') as zip_ref:\n",
    "            zip_ref.extractall(extract_to)\n",
    "            print(f\"Extracted {zip_file} to {extract_to}\")\n",
    "\n",
    "# --- Usage ---\n",
    "\n",
    "# Set paths for zip folder and extraction directory\n",
    "current_dir = os.getcwd()\n",
    "zip_folder_path = os.path.join(current_dir, \"raw_data\")  # Update as needed\n",
    "extract_dir = os.path.join(current_dir, \"data\")          # Folder to hold extracted CSV files\n",
    "\n",
    "# Ensure paths are formatted correctly for Spark (Windows needs forward slashes)\n",
    "if platform.system() == \"Windows\":\n",
    "    zip_folder_path = zip_folder_path.replace(os.sep, \"/\")\n",
    "    extract_dir = extract_dir.replace(os.sep, \"/\")\n",
    "\n",
    "# Extract all CSV files from the zip files.\n",
    "extract_all_zips(zip_folder_path, extract_dir)\n",
    "\n"
   ]
  },
  {
   "cell_type": "code",
   "execution_count": null,
   "metadata": {},
   "outputs": [],
   "source": [
    "import os\n",
    "from pyspark.sql import SparkSession\n",
    "\n",
    "# Create a basic Spark session\n",
    "spark = SparkSession.builder \\\n",
    "    .appName(\"SimpleSpark\") \\\n",
    "    .master(\"local[1]\") \\\n",
    "    .getOrCreate()\n",
    "\n",
    "print(\"Spark session created\")\n",
    "print(\"Spark version:\", spark.version)\n",
    "print(\"Java version:\", spark._jvm.System.getProperty(\"java.version\"))"
   ]
  },
  {
   "cell_type": "code",
   "execution_count": 2,
   "metadata": {},
   "outputs": [
    {
     "name": "stdout",
     "output_type": "stream",
     "text": [
      "Spark session created\n",
      "Spark version: 3.5.5\n",
      "Java version: 11.0.25\n",
      "spark.sql.catalog.local_pc.warehouse: file:///c:/Git/NYCBS/dwh\n",
      "spark.sql.catalog.local_pc: org.apache.iceberg.spark.SparkCatalog\n",
      "spark.sql.catalog.local_pc.type: hadoop\n",
      "reading files from c:/Git/NYCBS/data/*.csv\n",
      "reading file 202501-citibike-tripdata_1.csv\n",
      "reading file 202501-citibike-tripdata_2.csv\n",
      "reading file 202501-citibike-tripdata_3.csv\n",
      "+----------------+-------------+--------------------+--------------------+--------------------+----------------+--------------------+--------------+-----------------+------------------+-----------------+------------------+-------------+\n",
      "|         ride_id|rideable_type|          started_at|            ended_at|  start_station_name|start_station_id|    end_station_name|end_station_id|        start_lat|         start_lng|          end_lat|           end_lng|member_casual|\n",
      "+----------------+-------------+--------------------+--------------------+--------------------+----------------+--------------------+--------------+-----------------+------------------+-----------------+------------------+-------------+\n",
      "|56BD148A05E26915|electric_bike|2025-01-01 22:19:...|2025-01-01 22:23:...|     W 36 St & 7 Ave|         6483.06|     W 24 St & 7 Ave|       6257.03|        40.752149|        -73.989539|      40.74487634|      -73.99529885|       member|\n",
      "|700CCCDF00C08077|electric_bike|2025-01-09 15:20:...|2025-01-09 15:26:...|  Broadway & E 19 St|         5980.11|     W 24 St & 7 Ave|       6257.03|         40.73829|         -73.99006|      40.74487634|      -73.99529885|       member|\n",
      "|B1A3FAFA5FE651CE|electric_bike|2025-01-01 12:54:...|2025-01-01 13:03:...| Jackson Ave & 46 Rd|         6203.02|Crescent St & Bro...|       6827.11|      40.74524768|      -73.94733276|       40.7633589|       -73.9286471|       member|\n",
      "|9CB0F28054BA5EBC|electric_bike|2025-01-14 13:43:...|2025-01-14 13:49:...|  Broadway & E 19 St|         5980.11|     W 24 St & 7 Ave|       6257.03|         40.73829|         -73.99006|      40.74487634|      -73.99529885|       member|\n",
      "|A1B8FDD4FAF0C2B2|electric_bike|2025-01-13 07:20:...|2025-01-13 07:29:...|Willis Ave & E 14...|         7798.02|    1 Ave & E 110 St|       7522.02|        40.812299|         -73.92037|       40.7923272|          -73.9383|       member|\n",
      "|D4ABC7DE51C4C0FD|electric_bike|2025-01-14 07:18:...|2025-01-14 07:27:...|Willis Ave & E 14...|         7798.02|    1 Ave & E 110 St|       7522.02|        40.812299|         -73.92037|       40.7923272|          -73.9383|       member|\n",
      "|A7566220F8801648|electric_bike|2025-01-04 16:35:...|2025-01-04 16:39:...|Grand Concourse &...|         8126.07|Grand Concourse &...|       7984.04|        40.834263|        -73.917641|        40.823429|        -73.924689|       member|\n",
      "|1D8751C74C3A0852|electric_bike|2025-01-07 07:27:...|2025-01-07 07:36:...|Willis Ave & E 14...|         7798.02|    1 Ave & E 110 St|       7522.02|        40.812299|         -73.92037|       40.7923272|          -73.9383|       member|\n",
      "|C2BBDB9AE51DF5C7|electric_bike|2025-01-01 06:02:...|2025-01-01 06:04:...|     W 36 St & 7 Ave|         6483.06|     W 24 St & 7 Ave|       6257.03|        40.752149|        -73.989539|      40.74487634|      -73.99529885|       member|\n",
      "|321F327A14D040DF|electric_bike|2025-01-08 06:10:...|2025-01-08 06:15:...|     W 42 St & 8 Ave|         6602.05|     E 48 St & 5 Ave|       6626.01|       40.7575699|      -73.99098507|40.75724567911726|-73.97805914282799|       casual|\n",
      "|F6409D18A7053C73|electric_bike|2025-01-09 19:37:...|2025-01-09 19:41:...|Cauldwell Ave & E...|         7913.15|Melrose Ave & E 1...|       7918.12|         40.81989|        -73.908351|        40.819609|        -73.916071|       member|\n",
      "|BED2681DBD9E4801| classic_bike|2025-01-03 11:36:...|2025-01-03 11:38:...|      E 6 St & Ave B|         5584.04|     E 11 St & Ave B|       5659.11|      40.72453734|      -73.98185424|40.72746420692392|-73.97950418293476|       member|\n",
      "|B18ACAFEB3EDB329|electric_bike|2025-01-02 16:12:...|2025-01-02 16:30:...|      E 6 St & Ave D|         5506.14|     E 48 St & 5 Ave|       6626.01|      40.72228087|      -73.97668709|40.75724567911726|-73.97805914282799|       member|\n",
      "|1397A7260BB7959C| classic_bike|2025-01-08 11:12:...|2025-01-08 11:13:...|     E 10 St & Ave A|         5659.05|     E 11 St & Ave B|       5659.11|      40.72740794|      -73.98142006|40.72746420692392|-73.97950418293476|       member|\n",
      "|773CCC2279237B2B| classic_bike|2025-01-08 11:09:...|2025-01-08 11:10:...|     E 10 St & Ave A|         5659.05|     E 11 St & Ave B|       5659.11|      40.72740794|      -73.98142006|40.72746420692392|-73.97950418293476|       member|\n",
      "|23A7B754891B913E|electric_bike|2025-01-14 18:22:...|2025-01-14 18:24:...|     W 25 St & 8 Ave|         6297.08|     W 24 St & 7 Ave|       6257.03|40.74649996333341|-73.99732626293645|      40.74487634|      -73.99529885|       member|\n",
      "|FD7672AF99FCCE8E|electric_bike|2025-01-08 07:58:...|2025-01-08 08:01:...|Jerome Ave & Bedf...|         8734.02| Paul Ave & W 205 St|       8782.01|         40.87307|         -73.88971|         40.87704|         -73.88943|       member|\n",
      "|3EBACAE70014496F| classic_bike|2025-01-10 08:09:...|2025-01-10 08:11:...|Jerome Ave & Bedf...|         8734.02| Paul Ave & W 205 St|       8782.01|         40.87307|         -73.88971|         40.87704|         -73.88943|       member|\n",
      "|892E8A335AD0BDA0|electric_bike|2025-01-03 05:20:...|2025-01-03 05:25:...|     W 42 St & 8 Ave|         6602.05|     E 48 St & 5 Ave|       6626.01|       40.7575699|      -73.99098507|40.75724567911726|-73.97805914282799|       member|\n",
      "|AAE184522B844990| classic_bike|2025-01-03 18:45:...|2025-01-03 18:50:...|    W 22 St & 10 Ave|         6306.06|     W 24 St & 7 Ave|       6257.03|      40.74691959|      -74.00451887|      40.74487634|      -73.99529885|       member|\n",
      "+----------------+-------------+--------------------+--------------------+--------------------+----------------+--------------------+--------------+-----------------+------------------+-----------------+------------------+-------------+\n",
      "only showing top 20 rows\n",
      "\n",
      "Number of rows: 2124475\n"
     ]
    }
   ],
   "source": [
    "import os\n",
    "import platform\n",
    "from pyspark.sql import SparkSession\n",
    "\n",
    "# Get the current working directory\n",
    "current_dir = os.getcwd()\n",
    "\n",
    "# Ensure paths are correctly formatted for both Windows and Mac/Linux\n",
    "catalog_path = os.path.join(current_dir, \"catalog\", \"iceberg.db\")\n",
    "db_dir = os.path.dirname(catalog_path)\n",
    "os.makedirs(db_dir, exist_ok=True)\n",
    "\n",
    "# Handle JDBC URL formatting for different OS\n",
    "if platform.system() == \"Windows\":\n",
    "    jdbc_url = f\"jdbc:sqlite:///{catalog_path.replace(os.sep, '/')}\"  # Convert \\ to /\n",
    "    warehouse_url = f\"file:///{os.path.join(current_dir, 'dwh').replace(os.sep, '/')}\"\n",
    "else:\n",
    "    jdbc_url = f\"jdbc:sqlite:///{catalog_path}\"\n",
    "    warehouse_url = f\"file://{os.path.join(current_dir, 'dwh')}\"\n",
    "\n",
    "# Set the directory where CSV files have been extracted\n",
    "extract_dir = os.path.join(current_dir, \"data\")\n",
    "os.makedirs(extract_dir, exist_ok=True)\n",
    "\n",
    "# Ensure the \"dwh\" warehouse directory exists\n",
    "warehouse_dir = os.path.join(current_dir, \"dwh\")\n",
    "os.makedirs(warehouse_dir, exist_ok=True)\n",
    "\n",
    "spark = SparkSession.builder \\\n",
    "    .appName(\"SparkIcebergExample\") \\\n",
    "    .master(\"local[1]\") \\\n",
    "    .config(\"spark.sql.extensions\", \"org.apache.iceberg.spark.extensions.IcebergSparkSessionExtensions\") \\\n",
    "    .config(\"spark.sql.catalog.local_pc\", \"org.apache.iceberg.spark.SparkCatalog\") \\\n",
    "    .config(\"spark.sql.catalog.local_pc.type\", \"hadoop\") \\\n",
    "    .config(\"spark.sql.catalog.local_pc.warehouse\", warehouse_url) \\\n",
    "    .getOrCreate()\n",
    "\n",
    "print(\"Spark session created\")\n",
    "print(\"Spark version:\", spark.version)\n",
    "print(\"Java version:\", spark._jvm.System.getProperty(\"java.version\"))\n",
    "\n",
    "# Print relevant Spark configurations\n",
    "for key, value in spark.sparkContext.getConf().getAll():\n",
    "    if \"catalog.local\" in key:\n",
    "        print(f\"{key}: {value}\")\n",
    "\n",
    "# Read and display the contents of the CSV files\n",
    "csv_path = os.path.join(extract_dir, \"*.csv\").replace(os.sep, \"/\")  # Ensure forward slashes for Spark compatibility\n",
    "print(f\"reading files from {csv_path}\")\n",
    "\n",
    "df = spark.read.csv(\"c:/Git/NYCBS/data/202501-citibike-tripdata_1.csv\", header=True, inferSchema=True)\n",
    "print(\"reading file 202501-citibike-tripdata_1.csv\")\n",
    "df1 = spark.read.csv(\"c:/Git/NYCBS/data/202501-citibike-tripdata_2.csv\", header=True, inferSchema=True)\n",
    "print(\"reading file 202501-citibike-tripdata_2.csv\")\n",
    "df2 = spark.read.csv(\"c:/Git/NYCBS/data/202501-citibike-tripdata_3.csv\", header=True, inferSchema=True)\n",
    "print(\"reading file 202501-citibike-tripdata_3.csv\")\n",
    "\n",
    "#merge the dataframes\n",
    "df = df.union(df1).union(df2)\n",
    "\n",
    "df.show()\n",
    "\n",
    "print(f\"Number of rows: {df.count()}\")"
   ]
  },
  {
   "cell_type": "code",
   "execution_count": 3,
   "metadata": {},
   "outputs": [
    {
     "name": "stdout",
     "output_type": "stream",
     "text": [
      "root\n",
      " |-- ride_id: string (nullable = true)\n",
      " |-- rideable_type: string (nullable = true)\n",
      " |-- started_at: timestamp (nullable = true)\n",
      " |-- ended_at: timestamp (nullable = true)\n",
      " |-- start_station_name: string (nullable = true)\n",
      " |-- start_station_id: string (nullable = true)\n",
      " |-- end_station_name: string (nullable = true)\n",
      " |-- end_station_id: string (nullable = true)\n",
      " |-- start_lat: double (nullable = true)\n",
      " |-- start_lng: double (nullable = true)\n",
      " |-- end_lat: double (nullable = true)\n",
      " |-- end_lng: double (nullable = true)\n",
      " |-- member_casual: string (nullable = true)\n",
      "\n"
     ]
    }
   ],
   "source": [
    "#display the df schema\n",
    "df.printSchema()"
   ]
  },
  {
   "cell_type": "code",
   "execution_count": 4,
   "metadata": {},
   "outputs": [
    {
     "name": "stdout",
     "output_type": "stream",
     "text": [
      "+-------+----------------+-------------+--------------------+-----------------+--------------------+-----------------+--------------------+-------------------+-------------------+------------------+-------------+\n",
      "|summary|         ride_id|rideable_type|  start_station_name| start_station_id|    end_station_name|   end_station_id|           start_lat|          start_lng|            end_lat|           end_lng|member_casual|\n",
      "+-------+----------------+-------------+--------------------+-----------------+--------------------+-----------------+--------------------+-------------------+-------------------+------------------+-------------+\n",
      "|  count|         2124475|      2124475|             2123911|          2123911|             2120500|          2120153|             2124475|            2124475|            2124206|           2124206|      2124475|\n",
      "|   mean|        Infinity|         NULL|                NULL|5924.951078772682|                NULL|5923.929563775581|   40.73695340244103| -73.97156670347172|  40.73683015869696|  -73.971583570992|         NULL|\n",
      "| stddev|             NaN|         NULL|                NULL|1123.923882609489|                NULL|1118.573132456594|0.040180667520851254|0.04161912373156867|0.07930277445940231|0.1311016094274718|         NULL|\n",
      "|    min|000000105CDB6C86| classic_bike|    1 Ave & E 110 St|          2733.03|    1 Ave & E 110 St|          2733.03|           34.014863|        -118.481518|                0.0|       -118.481518|       casual|\n",
      "|    max|FFFFF51CDD80E1B7|electric_bike|Yankee Ferry Term...|     Shop Morgan |Yankee Ferry Term...|     Shop Morgan |             40.8863|          -73.84672|              40.95|               0.0|       member|\n",
      "+-------+----------------+-------------+--------------------+-----------------+--------------------+-----------------+--------------------+-------------------+-------------------+------------------+-------------+\n",
      "\n"
     ]
    }
   ],
   "source": [
    "#describe the df\n",
    "df.describe().show()"
   ]
  },
  {
   "cell_type": "markdown",
   "metadata": {},
   "source": [
    "## c. Data Cleaning:\n",
    "Perform cleaning tasks such as:\n",
    "-\tDropping rows with missing critical fields (e.g., start/end timestamps).\n",
    "-\tConverting timestamp strings to proper timestamp types.\n",
    "-\tFiltering out trips with negative or zero durations."
   ]
  },
  {
   "cell_type": "markdown",
   "metadata": {},
   "source": [
    "# 2. Analysis & Insights\n",
    "\n",
    "## A. Insurance Coverage Analysis\n",
    "\n",
    "Counting Trips Over 30 Minutes:\n",
    "- Filter the DataFrame for trips where trip_duration > 30 minutes and count them."
   ]
  },
  {
   "cell_type": "code",
   "execution_count": 5,
   "metadata": {},
   "outputs": [],
   "source": [
    "from pyspark.sql.functions import col, unix_timestamp, to_date\n",
    "from pyspark.sql import functions as F\n",
    "\n",
    "insurance_trip_duration = 30\n",
    "\n",
    "# Drop rows with missing timestamps\n",
    "df = df.dropna(subset=[\"started_at\", \"ended_at\"])\n",
    "\n",
    "# extract rental_date from started_at\n",
    "df = df.withColumn(\"rental_date\", to_date(col(\"started_at\")))\n",
    "\n",
    "# Convert time columns to timestamp and compute trip duration in minutes\n",
    "df = df.withColumn(\"start_ts\", unix_timestamp(\"started_at\")) \\\n",
    "       .withColumn(\"end_ts\", unix_timestamp(\"ended_at\"))\n",
    "\n",
    "# Calculate duration (in minutes) and filter out invalid records\n",
    "df = df.withColumn(\"trip_duration\", (col(\"end_ts\") - col(\"start_ts\")) / 60)\n",
    "df = df.filter(col(\"trip_duration\") > 0)\n",
    "\n",
    "#add a column to flag trips that are longer than 30 minutes\n",
    "df = df.withColumn(\"insurance_trip\", F.when(col(\"trip_duration\") > insurance_trip_duration, 1).otherwise(0))\n"
   ]
  },
  {
   "cell_type": "code",
   "execution_count": 6,
   "metadata": {},
   "outputs": [
    {
     "name": "stdout",
     "output_type": "stream",
     "text": [
      "Trips longer than 30 minutes: 58708\n"
     ]
    }
   ],
   "source": [
    "insurance_trips = df.filter(col(\"trip_duration\") > 30)\n",
    "num_insurance_trips = insurance_trips.count()\n",
    "print(f\"Trips longer than 30 minutes: {num_insurance_trips}\")"
   ]
  },
  {
   "cell_type": "markdown",
   "metadata": {},
   "source": [
    "## B. Revenue Estimation\n",
    "\n",
    "Estimating Revenue Impact:\n",
    "- Assume a charge of $0.20 per trip that exceeds 30 minutes. Multiply the count by $0.20."
   ]
  },
  {
   "cell_type": "code",
   "execution_count": 7,
   "metadata": {},
   "outputs": [
    {
     "name": "stdout",
     "output_type": "stream",
     "text": [
      "Estimated revenue from over-30-min rides: $11741.60\n"
     ]
    }
   ],
   "source": [
    "revenue = num_insurance_trips * 0.20\n",
    "print(f\"Estimated revenue from over-30-min rides: ${revenue:.2f}\")"
   ]
  },
  {
   "cell_type": "markdown",
   "metadata": {},
   "source": [
    "## C. Travel Distance Analysis\n",
    "\n",
    "1. Calculating the Distance (Haversine Formula):\n",
    "- As the dataset includes starting and ending coordinates (e.g., start station latitude, start station longitude, end station latitude, end station longitude), we can compute the great-circle distance using the haversine formula. \n",
    "- Here’s an example using Spark SQL functions:"
   ]
  },
  {
   "cell_type": "code",
   "execution_count": 8,
   "metadata": {},
   "outputs": [],
   "source": [
    "import pyspark.sql.functions as F\n",
    "\n",
    "# Earth's radius in kilometers\n",
    "EARTH_RADIUS = 6371.0\n",
    "\n",
    "# Convert coordinates and calculate haversine 'a' factor\n",
    "df = df.withColumn(\"start_lat_rad\", F.radians(col(\"start_lat\"))) \\\n",
    "       .withColumn(\"start_lon_rad\", F.radians(col(\"start_lng\"))) \\\n",
    "       .withColumn(\"end_lat_rad\", F.radians(col(\"end_lat\"))) \\\n",
    "       .withColumn(\"end_lon_rad\", F.radians(col(\"end_lng\")))\n",
    "\n",
    "df = df.withColumn(\"dlat\", col(\"end_lat_rad\") - col(\"start_lat_rad\")) \\\n",
    "       .withColumn(\"dlon\", col(\"end_lon_rad\") - col(\"start_lon_rad\"))\n",
    "\n",
    "# Compute haversine distance in km\n",
    "df = df.withColumn(\"a\", F.pow(F.sin(col(\"dlat\")/2), 2) + \n",
    "                   F.cos(col(\"start_lat_rad\")) * F.cos(col(\"end_lat_rad\")) * \n",
    "                   F.pow(F.sin(col(\"dlon\")/2), 2))\n",
    "df = df.withColumn(\"distance_km\", 2 * EARTH_RADIUS * F.asin(F.sqrt(col(\"a\"))))"
   ]
  },
  {
   "cell_type": "markdown",
   "metadata": {},
   "source": [
    "2. Classifying Trips into Distance Buckets:\n",
    "Create a new column to assign each trip into one of the specified buckets."
   ]
  },
  {
   "cell_type": "code",
   "execution_count": 9,
   "metadata": {},
   "outputs": [],
   "source": [
    "df = df.withColumn(\"distance_bucket\",\n",
    "    F.when(col(\"distance_km\") <= 1, \"0-1 km\")\n",
    "     .when((col(\"distance_km\") > 1) & (col(\"distance_km\") <= 4), \"2-4 km\")\n",
    "     .when((col(\"distance_km\") > 4) & (col(\"distance_km\") <= 9), \"4-9 km\")\n",
    "     .otherwise(\"10+ km\")\n",
    ")"
   ]
  },
  {
   "cell_type": "markdown",
   "metadata": {},
   "source": [
    "3. Visualization:\n",
    "Convert the aggregated data (e.g., count per distance bucket) to Pandas and use matplotlib or seaborn to plot the distribution."
   ]
  },
  {
   "cell_type": "code",
   "execution_count": 10,
   "metadata": {},
   "outputs": [
    {
     "name": "stderr",
     "output_type": "stream",
     "text": [
      "C:\\Users\\aldam\\AppData\\Local\\Temp\\ipykernel_24964\\485367000.py:8: FutureWarning: \n",
      "\n",
      "Passing `palette` without assigning `hue` is deprecated and will be removed in v0.14.0. Assign the `x` variable to `hue` and set `legend=False` for the same effect.\n",
      "\n",
      "  ax = sns.barplot(\n"
     ]
    },
    {
     "data": {
      "image/png": "[encoded data removed]",
      "text/plain": [
       "<Figure size 800x600 with 1 Axes>"
      ]
     },
     "metadata": {},
     "output_type": "display_data"
    }
   ],
   "source": [
    "# Aggregate counts by bucket and convert to Pandas DataFrame\n",
    "bucket_distribution = df.groupBy(\"distance_bucket\").count().toPandas()\n",
    "\n",
    "import matplotlib.pyplot as plt\n",
    "import seaborn as sns\n",
    "\n",
    "plt.figure(figsize=(8,6))\n",
    "ax = sns.barplot(\n",
    "    x=\"distance_bucket\",\n",
    "    y=\"count\",\n",
    "    data=bucket_distribution,\n",
    "    palette=\"viridis\",\n",
    "    order=[\"0-1 km\", \"2-4 km\", \"4-9 km\", \"10+ km\"]  # Specify your custom order here\n",
    "    )\n",
    "ax.set_title(\"Trip Distance Distribution\")\n",
    "ax.set_xlabel(\"Distance Bucket\")\n",
    "ax.set_ylabel(\"Number of Trips\")\n",
    "\n",
    "# Example: set y-ticks at 0, 500k, 1M, 1.5M, etc.\n",
    "ax.set_yticks([0, 500_000, 1_000_000, 1_500_000])\n",
    "ax.set_yticklabels([\"0\", \"500K\", \"1M\", \"1.5M\"])\n",
    "\n",
    "plt.tight_layout()\n",
    "plt.show()"
   ]
  }
 ],
 "metadata": {
  "kernelspec": {
   "display_name": ".venv",
   "language": "python",
   "name": "python3"
  },
  "language_info": {
   "codemirror_mode": {
    "name": "ipython",
    "version": 3
   },
   "file_extension": ".py",
   "mimetype": "text/x-python",
   "name": "python",
   "nbconvert_exporter": "python",
   "pygments_lexer": "ipython3",
   "version": "3.11.9"
  }
 },
 "nbformat": 4,
 "nbformat_minor": 2
}
